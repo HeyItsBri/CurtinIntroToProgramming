{
  "cells": [
    {
      "cell_type": "markdown",
      "metadata": {
        "id": "view-in-github",
        "colab_type": "text"
      },
      "source": [
        "<a href=\"https://colab.research.google.com/github/HeyItsBri/CurtinIntroToProgramming/blob/main/ISYS5002W3.ipynb\" target=\"_parent\"><img src=\"https://colab.research.google.com/assets/colab-badge.svg\" alt=\"Open In Colab\"/></a>"
      ]
    },
    {
      "cell_type": "code",
      "execution_count": null,
      "metadata": {
        "colab": {
          "base_uri": "https://localhost:8080/"
        },
        "id": "QKWCHC2equlU",
        "outputId": "4523a611-47a3-4b67-f598-39a3b498ff42"
      },
      "outputs": [
        {
          "name": "stdout",
          "output_type": "stream",
          "text": [
            "What did you get last semester? \n",
            " *89\n",
            "Omg congraz! That's high distinction!\n"
          ]
        }
      ],
      "source": [
        "score = int(input(\"What did you get last semester? \\n *\"))\n",
        "if score <= 59:\n",
        "  print(\"Oh no, you failed that class?\")\n",
        "elif score <= 80:\n",
        "  print(\"Yay you passed!\")\n",
        "else:\n",
        "  print(\"Omg congraz! That's high distinction!\")"
      ]
    },
    {
      "cell_type": "code",
      "execution_count": 1,
      "metadata": {
        "colab": {
          "base_uri": "https://localhost:8080/",
          "height": 0
        },
        "id": "DhwgpKaOsT3s",
        "outputId": "9a057632-0f85-4cce-c3f1-1aa0c353018f"
      },
      "outputs": [
        {
          "output_type": "stream",
          "name": "stdout",
          "text": [
            "Welcome, how may I help you?\n",
            "1. About\n",
            "2. Services\n",
            "3. FAQ\n",
            "Select your category4\n",
            "invalid, please choose again\n"
          ]
        }
      ],
      "source": [
        "print(\"Welcome, how may I help you?\")\n",
        "print(\"1. About\")\n",
        "print(\"2. Services\")\n",
        "print(\"3. FAQ\")\n",
        "ans = input(\"Select your category\")\n",
        "if ans == 1:\n",
        "  print(\"About us \\n lorem ipsum dolor sit amet\")\n",
        "elif ans == 2:\n",
        "  print(\"Services \\n At Lorem Ipsum co., we provide only the best lorem ipsum dolor sit amet\")\n",
        "elif ans == 3:\n",
        "  print(\"FAQ \\n We are usually asked how we lorem ipsum dolor, but isn't it obvious that we dolor sit amet\")\n",
        "else:\n",
        "  print(\"invalid, please choose again\")\n"
      ]
    },
    {
      "cell_type": "code",
      "execution_count": null,
      "metadata": {
        "colab": {
          "background_save": true,
          "base_uri": "https://localhost:8080/"
        },
        "id": "YwTM-33sviWR",
        "outputId": "2c9ce787-72a1-4490-ad10-484b2a3f62bf"
      },
      "outputs": [
        {
          "name": "stdout",
          "output_type": "stream",
          "text": [
            "Welcome, how may I help you?\n",
            "1. About\n",
            "2. Services\n",
            "3. FAQ\n",
            "4. Exit\n"
          ]
        }
      ],
      "source": [
        "while True:\n",
        "    print(\"Welcome, how may I help you?\")\n",
        "    print(\"1. About\")\n",
        "    print(\"2. Services\")\n",
        "    print(\"3. FAQ\")\n",
        "    print(\"4. Exit\")\n",
        "\n",
        "    ans = input(\"Select your category: \")\n",
        "\n",
        "    if ans == \"1\":\n",
        "        print(\"\\nAbout us \\nLorem ipsum dolor sit amet.\\n\")\n",
        "    elif ans == \"2\":\n",
        "        print(\"\\nServices \\nAt Lorem Ipsum Co., we provide only the best lorem ipsum dolor sit amet.\\n\")\n",
        "    elif ans == \"3\":\n",
        "        print(\"\\nFAQ \\nWe are usually asked how we lorem ipsum dolor, but isn't it obvious that we dolor sit amet?\\n\")\n",
        "    elif ans == \"4\":\n",
        "        print(\"\\nThank you for visiting. Goodbye!\")\n",
        "        break\n",
        "    else:\n",
        "        print(\"\\nInvalid input, please choose again.\\n\")\n",
        "\n",
        "    input(\"Press Enter to return to the menu...\\n\")"
      ]
    },
    {
      "cell_type": "code",
      "execution_count": 4,
      "metadata": {
        "id": "2Rf0cdVNvl8E",
        "colab": {
          "base_uri": "https://localhost:8080/",
          "height": 0
        },
        "outputId": "4eb46f46-dc54-428c-f887-795d6afb3b61"
      },
      "outputs": [
        {
          "output_type": "stream",
          "name": "stdout",
          "text": [
            "Hello, welcome to ABC \n",
            " 1. About us \n",
            " 2. Services \n",
            " 3. FAQ\n",
            "Select your category4\n",
            "invalid, please choose again\n"
          ]
        }
      ],
      "source": [
        "print(\"Hello, welcome to ABC \\n 1. About us \\n 2. Services \\n 3. FAQ\")\n",
        "ans = input(\"Select your category\")\n",
        "if input == 1:\n",
        "  print(\"About us\")\n",
        "elif input == 2:\n",
        "  print(\"Services\")\n",
        "elif input == 3:\n",
        "  print(\"FAQ\")\n",
        "else:\n",
        "  print(\"invalid, please choose again\")"
      ]
    },
    {
      "cell_type": "code",
      "source": [
        "user_choice = \"1\"\n",
        "if user_choice == \"1\":\n",
        "    temp_input = input(\"What's your current temperature? (Please respond in Celsius): \")\n",
        "\n",
        "    if temp_input.isdigit() or (temp_input.startswith('-') and temp_input[1:].isdigit()):\n",
        "        temp = int(temp_input)\n",
        "\n",
        "        if temp < 5:\n",
        "            print(\"It's so cold!\")\n",
        "        elif temp < 15:\n",
        "            print(\"It's quite chilly\")\n",
        "        elif temp < 28:\n",
        "            print(\"That's the perfect weather! You should touch grass\")\n",
        "        elif temp >= 30:\n",
        "            print(\"It's hot, maybe stay in AC instead\")\n",
        "        else:\n",
        "            print(\"Temperature in an unusual range, stay comfortable!\")\n",
        "    else:\n",
        "        print(\"Invalid input, please enter a valid number in Celsius.\")"
      ],
      "metadata": {
        "colab": {
          "base_uri": "https://localhost:8080/"
        },
        "id": "_r_IS9lhOQpw",
        "outputId": "cbb37f03-32f2-475e-a847-f5f8928efc1f"
      },
      "execution_count": 11,
      "outputs": [
        {
          "output_type": "stream",
          "name": "stdout",
          "text": [
            "What's your current temperature? (Please respond in Celsius): sss\n",
            "Invalid input, please enter a valid number in Celsius.\n"
          ]
        }
      ]
    },
    {
      "cell_type": "code",
      "source": [
        "from pickle import TRUE\n",
        "print(\"Weather menU: \\n 1. Check Temperature \\n 2. Check Humidity \\n 3. Check Wind Speed \\n 4. Exit\")\n",
        "\n",
        "choice = input(\"Select your choice \")\n",
        "\n",
        "if choice == \"1\":\n",
        "  temp_input = input(\"What's your current temperature? (Please respond in Celsius): \")\n",
        "\n",
        "  if temp_input.isdigit() or (temp_input.startswith('-') and temp_input[1:].isdigit()):\n",
        "    temp = int(temp_input)\n",
        "    if temp < 5:\n",
        "      print(\"It's so cold!\")\n",
        "    elif temp < 15:\n",
        "      print(\"It's quite chilly\")\n",
        "    elif temp < 28:\n",
        "      print(\"That's the perfect weather! You should touch grass\")\n",
        "    elif temp >= 30:\n",
        "      print(\"It's hot, maybe stay in AC instead\")\n",
        "    else:\n",
        "      print(\"Temperature in an unusual range, stay comfortable!\")\n",
        "  else:\n",
        "    print(\"Invalid input, please enter a valid number in Celsius.\")\n",
        "\n",
        "elif choice == \"2\":\n",
        "  humidity_input = input(\"What's your current humidity? (Please respond in percentage): \")\n",
        "  if humidity_input.isdigit() or (humidity_input.startswith('-') and humidity_input[1:].isdigit()):\n",
        "      humidity = int(humidity_input)\n",
        "\n",
        "      if humidity >= 60:\n",
        "        print(\"That's very high! Be careful of mold\")\n",
        "      elif humidity < 60:\n",
        "        print(\"That's lovely, your skin must love this humidity level\")\n",
        "      elif humidity < 29:\n",
        "        print(\"That's too dry, moisturize your skin!!\")\n",
        "      else:\n",
        "        print(\"Humidity in an unusual range, stay comfortable!\")\n",
        "  else:\n",
        "    print(\"Invalid input, please enter a valid number in percentage.\")\n",
        "\n",
        "elif choice == \"3\":\n",
        "  wind_speed_input = input(\"What's your current wind speed? (Please respond in km/h): \")\n",
        "  if wind_speed_input.isdigit() or (wind_speed_input.startswith('-') and wind_speed_input[1:].isdigit()):\n",
        "      wind_speed = int(wind_speed_input)\n",
        "\n",
        "      if wind_speed > 90:\n",
        "        print(\"That's dangerous! Stay inside and watch out for trees\")\n",
        "      elif wind_speed >= 64:\n",
        "        print(\"The weather is very windy! My hair would hate this\")\n",
        "      elif wind_speed > 30:\n",
        "        print(\"That's lovely, you should go out and enjoy it\")\n",
        "      elif wind_speed < 30:\n",
        "        print(\"There's barely any wind today huh\")\n",
        "      else:\n",
        "        print(\"Wind speed in an unusual range! Refer to meteology websites to find out more\")\n",
        "  else:\n",
        "    print(\"Invalid input, please enter a valid number in km/h.\")\n",
        "elif choice == \"4\":\n",
        "  print(\"Exiting the program. Goodbye!\")\n",
        "else:\n",
        "  print(\"Invalid choice. Please select a valid option.\")"
      ],
      "metadata": {
        "colab": {
          "base_uri": "https://localhost:8080/"
        },
        "id": "J11_peqNR725",
        "outputId": "0143c191-d70f-44ef-9587-143b7e423f2c"
      },
      "execution_count": 20,
      "outputs": [
        {
          "output_type": "stream",
          "name": "stdout",
          "text": [
            "Weather menU: \n",
            " 1. Check Temperature \n",
            " 2. Check Humidity \n",
            " 3. Check Wind Speed \n",
            " 4. Exit\n",
            "Select your choice 3\n",
            "What's your current wind speed? (Please respond in km/h): 40\n",
            "That's lovely, you should go out and enjoy it\n"
          ]
        }
      ]
    },
    {
      "cell_type": "code",
      "source": [],
      "metadata": {
        "id": "4OK_1VGvSOHC"
      },
      "execution_count": null,
      "outputs": []
    }
  ],
  "metadata": {
    "colab": {
      "provenance": [],
      "authorship_tag": "ABX9TyPMC+mS9aI5untgkDgZuo9y",
      "include_colab_link": true
    },
    "kernelspec": {
      "display_name": "Python 3",
      "name": "python3"
    },
    "language_info": {
      "name": "python"
    }
  },
  "nbformat": 4,
  "nbformat_minor": 0
}