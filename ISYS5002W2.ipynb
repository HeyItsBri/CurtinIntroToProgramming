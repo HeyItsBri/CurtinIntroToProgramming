{
  "nbformat": 4,
  "nbformat_minor": 0,
  "metadata": {
    "colab": {
      "provenance": [],
      "authorship_tag": "ABX9TyNnpeXLbxWqJI7WUCvJpwQu",
      "include_colab_link": true
    },
    "kernelspec": {
      "name": "python3",
      "display_name": "Python 3"
    },
    "language_info": {
      "name": "python"
    }
  },
  "cells": [
    {
      "cell_type": "markdown",
      "metadata": {
        "id": "view-in-github",
        "colab_type": "text"
      },
      "source": [
        "<a href=\"https://colab.research.google.com/github/HeyItsBri/CurtinIntroToProgramming/blob/main/ISYS5002W2.ipynb\" target=\"_parent\"><img src=\"https://colab.research.google.com/assets/colab-badge.svg\" alt=\"Open In Colab\"/></a>"
      ]
    },
    {
      "cell_type": "code",
      "source": [
        "name = input(\"whats your name?\")\n",
        "fav_color = input(\"whats your fav color?\")\n",
        "print(\"Hey \" + name + \", glad to know your fav color is \" + fav_color)"
      ],
      "metadata": {
        "colab": {
          "base_uri": "https://localhost:8080/"
        },
        "id": "pByYAbCpogaS",
        "outputId": "cf2ee23a-f92b-4657-fd72-51c824d88acc"
      },
      "execution_count": null,
      "outputs": [
        {
          "output_type": "stream",
          "name": "stdout",
          "text": [
            "whats your name?Milli\n",
            "whats your fav color?Pink\n",
            "Hey Milli, glad to know your fav color is Pink\n"
          ]
        }
      ]
    },
    {
      "cell_type": "code",
      "source": [
        "current_age = int(input(\"whats your age?\"))\n",
        "year = 2025 - current_age\n",
        "print(\"so you were born in \" + str(year) + \"?\")"
      ],
      "metadata": {
        "colab": {
          "base_uri": "https://localhost:8080/"
        },
        "id": "t8O6RrGHrHhl",
        "outputId": "be19d609-7690-475c-f699-068fff70cc92"
      },
      "execution_count": null,
      "outputs": [
        {
          "output_type": "stream",
          "name": "stdout",
          "text": [
            "whats your age?26\n",
            "so you were born in 1999?\n"
          ]
        }
      ]
    },
    {
      "cell_type": "code",
      "source": [
        "name = input(\"What's your name? \")\n",
        "fav_color = input(\"What's your fav color? \")\n",
        "fav_food = input(\"What's your go to food? \")\n",
        "print(\"Hey \" + name + \"!\\n\" + \"Your fav color is \" + fav_color + \" and your fav food is \" + fav_food)"
      ],
      "metadata": {
        "colab": {
          "base_uri": "https://localhost:8080/"
        },
        "id": "TH2JZXDXJ0Ze",
        "outputId": "8d83dac7-01a7-48b4-bafa-610f76266a93"
      },
      "execution_count": null,
      "outputs": [
        {
          "output_type": "stream",
          "name": "stdout",
          "text": [
            "What's your name? Bri\n",
            "What's your fav color? Pink\n",
            "What's your go to food? Chippies\n",
            "Hey Bri!\n",
            "Your fav color is Pink and your fav food is Chippies\n"
          ]
        }
      ]
    },
    {
      "cell_type": "code",
      "source": [
        "import datetime\n",
        "birth_year = int(input(\"What year were you born? \"))\n",
        "current_year = datetime.datetime.now().year\n",
        "age = current_year - birth_year\n",
        "print(\"Your age is \" + str(age))"
      ],
      "metadata": {
        "colab": {
          "base_uri": "https://localhost:8080/"
        },
        "id": "HRssjgnuLHUw",
        "outputId": "9c6c4ccd-bc34-4ade-9f4c-4c7759dc8ac5"
      },
      "execution_count": null,
      "outputs": [
        {
          "output_type": "stream",
          "name": "stdout",
          "text": [
            "What year were you born? 1999\n",
            "Your age is 26\n"
          ]
        }
      ]
    },
    {
      "cell_type": "code",
      "source": [
        "\"metadata\": {\n",
        "  \"widgets\": {\n",
        "    \"application/vnd.jupyter.widget-state+json\": {\n",
        "      \"state\": {}\n",
        "    }\n",
        "  }\n",
        "}\n",
        "\n",
        "!pip install ipywidgets\n",
        "\n",
        "import ipywidgets as widgets\n",
        "from IPython.display import display\n",
        "\n",
        "def greet(user_name, fav_colour, fav_food):\n",
        "    greeting = f\"Hello, {user_name}! Your favourite colour is {fav_colour} and you love {fav_food}.\"\n",
        "    print(greeting)\n",
        "\n",
        "# Create interactive text widgets for input\n",
        "name_widget = widgets.Text(placeholder='Enter your name')\n",
        "colour_widget = widgets.Text(placeholder='Enter your favourite colour')\n",
        "food_widget = widgets.Text(placeholder='Enter your favourite food')\n",
        "\n",
        "ui = widgets.VBox([name_widget, colour_widget, food_widget])\n",
        "out = widgets.interactive_output(greet, {'user_name': name_widget, 'fav_colour': colour_widget, 'fav_food': food_widget})\n",
        "display(ui, out)\n"
      ],
      "metadata": {
        "id": "fcB6FdpwMLLi"
      },
      "execution_count": null,
      "outputs": []
    },
    {
      "cell_type": "code",
      "source": [
        "name = input(\"Whats your name?\")\n",
        "age = int(input(\"How old are you?\"))\n",
        "fav_color = input(\"Whats your fav color?\")\n",
        "print(\"*Name:\" + name + \"\\n*Favourite Colour:\" + fav_color + \"\\n*Age: \" + str(age))"
      ],
      "metadata": {
        "id": "md74ZOACNkxM"
      },
      "execution_count": null,
      "outputs": []
    }
  ]
}